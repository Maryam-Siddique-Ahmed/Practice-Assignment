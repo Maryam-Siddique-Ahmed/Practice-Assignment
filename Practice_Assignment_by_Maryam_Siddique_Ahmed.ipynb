{
 "cells": [
  {
   "cell_type": "code",
   "execution_count": 1,
   "metadata": {},
   "outputs": [],
   "source": [
    "# 1. Below are a set of scores that students have received in the past semester.\n",
    "# Write code to determine how many are 90 or above and assign that result to the value a_scores.\n",
    "\n",
    "scores = \"67 80 90 78 93 20 79 89 96 97 92 88 79 68 58 90 98 100 79 74 83 88 80 86 85 70 90 100\""
   ]
  },
  {
   "cell_type": "code",
   "execution_count": 8,
   "metadata": {},
   "outputs": [
    {
     "name": "stdout",
     "output_type": "stream",
     "text": [
      "10 students scored 90 marks or greater than in the past semester. \n"
     ]
    }
   ],
   "source": [
    "scores = '67 80 90 78 93 20 79 89 96 97 92 88 79 68 58 90 98 100 79 74 83 88 80 86 85 70 90 100'\n",
    "scores_split = scores.split()\n",
    "scores_split = list(map(int,scores_split))\n",
    "a_score = []\n",
    "\n",
    "for x in scores_split:\n",
    "    if x >= 90:\n",
    "        a_score.append(x)\n",
    "b=(len(a_score))\n",
    "\n",
    "print(f'{b} students scored 90 marks or greater than in the past semester. ')"
   ]
  },
  {
   "cell_type": "code",
   "execution_count": 3,
   "metadata": {},
   "outputs": [],
   "source": [
    "# 2. Write code that uses the string stored in org and creates an acronym which is assigned to the variable acro.\n",
    "# Only the first letter of each word should be used, each letter in the acronym should be a capital letter, and there should be nothing to separate the letters of the acronym.\n",
    "# Words that should not be included in the acronym are stored in the list stopwords. \n",
    "# For example, if org was assigned the string “hello to world” then the resulting acronym should be “HW”.\n",
    "\n",
    "stopwords = ['to', 'a', 'for', 'by', 'an', 'am', 'the', 'so', 'it', 'and', \"The\"]\n",
    "org = \"The organization for health, safety, and education\""
   ]
  },
  {
   "cell_type": "code",
   "execution_count": 10,
   "metadata": {},
   "outputs": [
    {
     "name": "stdout",
     "output_type": "stream",
     "text": [
      "Intro: The organization for health, safety, and education. \n",
      "Acronym: OHSE \n"
     ]
    }
   ],
   "source": [
    "stopwords = ['to', 'a', 'for', 'by', 'an', 'am', 'the', 'so', 'it', 'and', 'The']\n",
    "org = 'The organization for health, safety, and education.'\n",
    "acro = \" \"\n",
    "words = org.split()\n",
    "for word in words:\n",
    "    if word not in stopwords:\n",
    "        acro +=word[0].upper()\n",
    "        \n",
    "print(f'Intro: {org} ')\n",
    "print(f'Acronym:{acro} ')"
   ]
  },
  {
   "cell_type": "code",
   "execution_count": 5,
   "metadata": {},
   "outputs": [],
   "source": [
    "# 3. Write code that uses the string stored in sent and creates an acronym which is assigned to the variable acro.\n",
    "# The first two letters of each word should be used, each letter in the acronym should be a capital letter, and each element of the acronym should be separated by a “. ” (dot and space).\n",
    "# Words that should not be included in the acronym are stored in the list stopwords.\n",
    "# For example, if sent was assigned the string “height and ewok wonder” then the resulting acronym should be “HE. EW. WO”.\n",
    "\n",
    "stopwords = ['to', 'a', 'for', 'by', 'an', 'am', 'the', 'so', 'it', 'and', 'The']\n",
    "sent = \"The water earth and air are vital\""
   ]
  },
  {
   "cell_type": "code",
   "execution_count": null,
   "metadata": {},
   "outputs": [],
   "source": [
    "stopwords = ['to', 'a', 'for', 'by', 'an', 'am', 'the', 'so', 'it', 'and', 'The']\n",
    "sent = \"The water earth and air are vital\"\n",
    "acro=\" \"\n",
    "words = sent.split(\" \")\n",
    "for word  in words:\n",
    "    if word not in stopwords:\n",
    "        acro+=word[0].upper()+ word[1].upper()+\".\"\n",
    "print(f\"Name:{sent}\",end=\".\") \n",
    "print(f\"\\nAcronym:{acro}\")"
   ]
  },
  {
   "cell_type": "code",
   "execution_count": 7,
   "metadata": {},
   "outputs": [],
   "source": [
    "# 4. A palindrome is a phrase that, if reversed, would read the exact same.\n",
    "# Write code that checks if p_phrase is a palindrome by reversing it and then checking if the reversed version is equal to the original.\n",
    "# Assign the reversed version of p_phrase to the variable r_phrase so that we can check your work.\n",
    "\n",
    "p_phrase = \"was it a car or a cat I saw\""
   ]
  },
  {
   "cell_type": "code",
   "execution_count": 4,
   "metadata": {},
   "outputs": [
    {
     "name": "stdout",
     "output_type": "stream",
     "text": [
      "was it a car or a cat I saw is not palidrome.\n"
     ]
    }
   ],
   "source": [
    "p_phrase = \"was it a car or a cat I saw\"\n",
    "rev_phrase = p_phrase[::-1]\n",
    "if p_phrase in rev_phrase:\n",
    "    print(f\"{p_phrase} is palidrome.\")\n",
    "else:\n",
    "    print(f\"{p_phrase} is not palidrome.\")"
   ]
  },
  {
   "cell_type": "code",
   "execution_count": 2,
   "metadata": {},
   "outputs": [],
   "source": [
    "# 5. Provided is a list of data about a store’s inventory where each item in the list represents the name of an item, how much is in stock, and how much it costs.\n",
    "# Print out each item in the list with the same formatting, using the .format method (not string concatenation).\n",
    "# For example, the first print statment should read The store has 12 shoes, each for 29.99 USD.\n",
    "\n",
    "inventory = [\"shoes, 12, 29.99\", \"shirts, 20, 9.99\", \"sweatpants, 25, 15.00\", \"scarves, 13, 7.75\"]"
   ]
  },
  {
   "cell_type": "code",
   "execution_count": 29,
   "metadata": {},
   "outputs": [
    {
     "name": "stdout",
     "output_type": "stream",
     "text": [
      "The store  12 shoes, each for  29.99 USD.\n",
      "The store  20 shirts, each for  9.99 USD.\n",
      "The store  25 sweatpants, each for  15.00 USD.\n",
      "The store  13 scarves, each for  7.75 USD.\n"
     ]
    }
   ],
   "source": [
    "inventory = [\"shoes, 12, 29.99\", \"shirts, 20, 9.99\", \"sweatpants, 25, 15.00\", \"scarves, 13, 7.75\"]\n",
    "for item in inventory:\n",
    "    item=item.split(\",\")\n",
    "    name=item[0]\n",
    "    quantity =item[1]\n",
    "    price = item[2]\n",
    "    \n",
    "    print(\"The store {} {}, each for {} USD.\".format(quantity,name,price))"
   ]
  },
  {
   "cell_type": "code",
   "execution_count": 43,
   "metadata": {},
   "outputs": [],
   "source": [
    "# 6. For each string in wrds, add ‘ed’ to the end of the word (to make the word past tense).\n",
    "# Save these past tense words to a list called past_wrds.\n",
    "\n",
    "wrds = [\"end\", 'work', \"play\", \"start\", \"walk\", \"look\", \"open\", \"rain\", \"learn\", \"clean\"]"
   ]
  },
  {
   "cell_type": "code",
   "execution_count": 13,
   "metadata": {},
   "outputs": [
    {
     "name": "stdout",
     "output_type": "stream",
     "text": [
      "First Forms:\n",
      "['end', 'work', 'play', 'start', 'walk', 'look', 'open', 'rain', 'learn', 'clean']\n",
      "\n",
      "Second forms:\n",
      "['ended', 'worked', 'played', 'started', 'walked', 'looked', 'opened', 'rained', 'learned', 'cleaned']\n"
     ]
    }
   ],
   "source": [
    "words = [\"end\", 'work', \"play\", \"start\", \"walk\", \"look\", \"open\", \"rain\", \"learn\", \"clean\"]\n",
    "\n",
    "\n",
    "past_words= []\n",
    "\n",
    "for word in words:\n",
    "    past_words.append(word + \"ed\")\n",
    "    \n",
    "print(\"First Forms:\")\n",
    "print(words)\n",
    "\n",
    "print(\"\\nSecond forms:\")\n",
    "print(past_words)"
   ]
  },
  {
   "cell_type": "code",
   "execution_count": null,
   "metadata": {},
   "outputs": [],
   "source": [
    "# 7. Write a function, test, that takes in three parameters: a required integer,\n",
    "# an optional boolean whose default value is True, and an optional dictionary,\n",
    "# called dict1, whose default value is {2:3, 4:5, 6:8}. If the boolean parameter is True,\n",
    "# the function should test to see if the integer is a key in the dictionary.\n",
    "# The value of that key should then be returned. If the boolean parameter is False, return the boolean value “False”.\n"
   ]
  },
  {
   "cell_type": "code",
   "execution_count": 11,
   "metadata": {},
   "outputs": [
    {
     "data": {
      "text/plain": [
       "2"
      ]
     },
     "execution_count": 11,
     "metadata": {},
     "output_type": "execute_result"
    }
   ],
   "source": [
    "def check(num,boolean_value=True,dict1={2:3, 4:5, 6:8}):\n",
    "    if boolean_value:\n",
    "        if num in dict1:\n",
    "            return num\n",
    "        else:\n",
    "            return False\n",
    "        \n",
    "check(2)   "
   ]
  },
  {
   "cell_type": "code",
   "execution_count": 12,
   "metadata": {},
   "outputs": [
    {
     "data": {
      "text/plain": [
       "False"
      ]
     },
     "execution_count": 12,
     "metadata": {},
     "output_type": "execute_result"
    }
   ],
   "source": [
    "def check(num,boolean_value=True,dict1={2:3, 4:5, 6:8}):\n",
    "    if boolean_value:\n",
    "        if num in dict1:\n",
    "            return num\n",
    "        else:\n",
    "            return False\n",
    "        \n",
    "check(1)   "
   ]
  },
  {
   "cell_type": "code",
   "execution_count": null,
   "metadata": {},
   "outputs": [],
   "source": [
    "# 8. Write a function called checkingIfIn that takes three parameters.\n",
    "# The first is a required parameter, which should be a string.\n",
    "# The second is an optional parameter called direction with a default value of True.\n",
    "# The third is an optional parameter called d that has a default value of\n",
    "# {'apple': 2, 'pear': 1, 'fruit': 19, 'orange': 5, 'banana': 3, 'grapes': 2, 'watermelon': 7}.\n",
    "# Write the function checkingIfIn so that when the second parameter is True,\n",
    "# it checks to see if the first parameter is a key in the third parameter;\n",
    "# if it is, return True, otherwise return False.\n",
    "\n",
    "# But if the second paramter is False, then the function should check to see if the first parameter is not a key of the third.'\n",
    "# If it’s not, the function should return True in this case, and if it is, it should return False."
   ]
  },
  {
   "cell_type": "code",
   "execution_count": 8,
   "metadata": {},
   "outputs": [
    {
     "data": {
      "text/plain": [
       "True"
      ]
     },
     "execution_count": 8,
     "metadata": {},
     "output_type": "execute_result"
    }
   ],
   "source": [
    "def checkingIfIn(str,direction=True,d={'apple': 2, 'pear': 1, 'fruit': 19, 'orange': 5, 'banana': 3,\n",
    "                                       'grapes': 2, 'watermelon': 7}):\n",
    "    if direction:\n",
    "        if str.lower() in d:\n",
    "            return True\n",
    "        else:\n",
    "            return False\n",
    "    else:\n",
    "        if str.lower() not in d:\n",
    "            return True\n",
    "        else:\n",
    "            return False\n",
    "checkingIfIn(\"Apple\")"
   ]
  },
  {
   "cell_type": "code",
   "execution_count": 10,
   "metadata": {},
   "outputs": [
    {
     "data": {
      "text/plain": [
       "False"
      ]
     },
     "execution_count": 10,
     "metadata": {},
     "output_type": "execute_result"
    }
   ],
   "source": [
    "def checkingIfIn(str,direction=True,d={'apple': 2, 'pear': 1, 'fruit': 19, 'orange': 5, 'banana': 3,\n",
    "                                       'grapes': 2, 'watermelon': 7}):\n",
    "    if direction:\n",
    "        if str.lower in d:\n",
    "            return True\n",
    "        else:\n",
    "            return False\n",
    "    else:\n",
    "        if str.lower not in d:\n",
    "            return True\n",
    "        else:\n",
    "            return False\n",
    "checkingIfIn(\"grape\".lower())"
   ]
  },
  {
   "cell_type": "code",
   "execution_count": null,
   "metadata": {},
   "outputs": [],
   "source": [
    "# 9. The textfile, travel_plans.txt, contains the summer travel plans for someone with some commentary.\n",
    "# Find the total number of characters in the file and save to the variable num."
   ]
  },
  {
   "cell_type": "code",
   "execution_count": 1,
   "metadata": {},
   "outputs": [
    {
     "name": "stdout",
     "output_type": "stream",
     "text": [
      "The number of characters are 308\n"
     ]
    }
   ],
   "source": [
    "with open(\"travel_plans.txt\") as x:\n",
    "    num = len(x.read())\n",
    "    print(f'The number of characters are {num}')"
   ]
  },
  {
   "cell_type": "code",
   "execution_count": null,
   "metadata": {},
   "outputs": [],
   "source": [
    "#10. Write code that will count the number of vowels in the sentence s and assign the result to the variable num_vowels.\n",
    "# For this problem, vowels are only a, e, i, o, and u. Hint: use the in operator with vowels.\n",
    "\n",
    "s = \"singing in the rain and playing in the rain are two entirely different situations but both can be fun\"\n",
    "vowels = ['a','e','i','o','u']\n",
    "\n",
    "# Write your code here.(Using list comprehension)\n"
   ]
  },
  {
   "cell_type": "code",
   "execution_count": 16,
   "metadata": {},
   "outputs": [
    {
     "name": "stdout",
     "output_type": "stream",
     "text": [
      "The number of vowels : 32.\n"
     ]
    }
   ],
   "source": [
    "s = \"singing in the rain and playing in the rain are two entirely different situations but both can be fun\"\n",
    "vowels = ['a','e','i','o','u']\n",
    "\n",
    "# Write your code here.(Using list comprehension)\n",
    "\n",
    "s = \"singing in the rain and playing in the rain are two entirely different situations but both can be fun\"\n",
    "vowels = ['a','e','i','o','u']\n",
    "num_vowels = 0\n",
    "for i in s:\n",
    "    if i in vowels:\n",
    "        num_vowels+=1\n",
    "print(f\"The number of vowels : {num_vowels}.\")"
   ]
  },
  {
   "cell_type": "code",
   "execution_count": null,
   "metadata": {},
   "outputs": [],
   "source": [
    "#11. rainfall_mi is a string that contains the average number of inches of rainfall in Michigan for every month (in inches) with every month separated by a comma.\n",
    "# Write code to compute the number of months that have more than 3 inches of rainfall.\n",
    "# Store the result in the variable num_rainy_months. In other words, count the number of items with values > 3.0.\n",
    "# Hard-coded answers will receive no credit.\n"
   ]
  },
  {
   "cell_type": "code",
   "execution_count": 19,
   "metadata": {},
   "outputs": [
    {
     "name": "stdout",
     "output_type": "stream",
     "text": [
      "Rainy Months in Michigan : 5\n"
     ]
    }
   ],
   "source": [
    "rainfall_mi = 'January 2.1, February 2.2, March 3.1, April 3.2, May 1.8, June 1.9, July 2.4, August 1.7, September 2.1,October 3.7, November 3.7, December 3.4'\n",
    "b = rainfall_mi.split(\",\")\n",
    "\n",
    "num_rainy_months = 0\n",
    "for x in b:\n",
    "    \n",
    "    if float(x.split()[1])>= 3.0:\n",
    "        num_rainy_months+=1\n",
    "print(f\"Rainy Months in Michigan : {num_rainy_months}\")        \n",
    "    "
   ]
  },
  {
   "cell_type": "code",
   "execution_count": 1,
   "metadata": {},
   "outputs": [],
   "source": [
    "#12. Write code that uses iteration to print out the length of each element of the list stored in str_list.\n",
    "str_list = [\"hello\", \"\", \"goodbye\", \"wonderful\", \"I love Python\"]\n"
   ]
  },
  {
   "cell_type": "code",
   "execution_count": 8,
   "metadata": {},
   "outputs": [
    {
     "name": "stdout",
     "output_type": "stream",
     "text": [
      "Elements :['hello']\n",
      "Length:  5\n",
      "Elements :[]\n",
      "Length:  0\n",
      "Elements :['goodbye']\n",
      "Length:  7\n",
      "Elements :['wonderful']\n",
      "Length:  9\n",
      "Elements :['I', 'love', 'Python']\n",
      "Length:  13\n"
     ]
    }
   ],
   "source": [
    "str_list = [\"hello\", \"\", \"goodbye\", \"wonderful\", \"I love Python\"]\n",
    "\n",
    "for a in str_list:\n",
    "    print(f\"Elements :{a.split()}\\nLength:  {(len(a))}\")    "
   ]
  },
  {
   "cell_type": "code",
   "execution_count": null,
   "metadata": {},
   "outputs": [],
   "source": [
    "#13. Write one for loop to print out each element of the list several_things.\n",
    "# Then, write another for loop to print out the TYPE of each element of the list several_things.\n",
    "# To complete this problem you should have written two different for loops,\n",
    "# each of which iterates over the list several_things, but each of those 2 for loops should have a different result.\n",
    "\n",
    "several_things = [\"hello\", 2, 4, 6.0, 7.5, 234352354, \"the end\", \"\", 99"
   ]
  },
  {
   "cell_type": "code",
   "execution_count": 2,
   "metadata": {},
   "outputs": [
    {
     "name": "stdout",
     "output_type": "stream",
     "text": [
      "\n",
      "Elements:-\n",
      "hello , 2 , 4 , 6.0 , 7.5 , 234352354 , the end ,  , 99 , \n",
      "Type:-\n",
      "<class 'str'>,<class 'int'>,<class 'int'>,<class 'float'>,<class 'float'>,<class 'int'>,<class 'str'>,<class 'str'>,<class 'int'>,"
     ]
    }
   ],
   "source": [
    "several_things = [\"hello\", 2, 4, 6.0, 7.5, 234352354, \"the end\", \"\", 99]\n",
    "print(\"\\nElements:-\")\n",
    "for a in several_things:\n",
    "    print(a,end=\" , \")\n",
    "print(\"\\nType:-\")    \n",
    "for b in several_things:\n",
    "    print(type(b),end=\",\")"
   ]
  },
  {
   "cell_type": "code",
   "execution_count": 19,
   "metadata": {},
   "outputs": [],
   "source": [
    "#14. Given below is a list of lists of athletes.\n",
    "# Create a list, t, that saves only the athlete’s name if it contains the letter “t”.\n",
    "# If it does not contain the letter “t”, save the athlete name into list other."
   ]
  },
  {
   "cell_type": "code",
   "execution_count": 3,
   "metadata": {},
   "outputs": [
    {
     "name": "stdout",
     "output_type": "stream",
     "text": [
      "\n",
      " With t: Lochte ,Bolt ,Eaton ,Dalton ,\n",
      " Without t: Phelps,Schooling,Ledecky,Franklin,Felix,Gardner,Biles,Douglas,Hamm,Raisman,Mikulak,"
     ]
    }
   ],
   "source": [
    "athletes = [['Phelps', 'Lochte', 'Schooling', 'Ledecky', 'Franklin'],\n",
    "            ['Felix', 'Bolt', 'Gardner', 'Eaton'],\n",
    "            ['Biles', 'Douglas', 'Hamm', 'Raisman', 'Mikulak', 'Dalton']]\n",
    "t = []\n",
    "other_list = []\n",
    " \n",
    "for name in athletes:\n",
    "    for m in name:\n",
    "        if \"t\" in m:\n",
    "            t.append(m)\n",
    "        else:\n",
    "            other_list.append(m)\n",
    "print(\"\\n With t:\",end=\" \")\n",
    "for names in t:\n",
    "    print(names,end=\" ,\")\n",
    "print(\"\\n Without t: \",end=\"\")\n",
    "for names in other_list:\n",
    "    print(names,end=\",\")    \n",
    "    "
   ]
  },
  {
   "cell_type": "code",
   "execution_count": null,
   "metadata": {},
   "outputs": [],
   "source": [
    "#15. Below, we have provided a list of tuples that contain students names and their final grades in PYTHON 101.\n",
    "# Using list comprehension, create a new list passed that contains the names of students who passed the class\n",
    "# (had a final grade of 70 or greater).\n",
    "\n",
    "students = [('Tommy', 95), ('Linda', 63), ('Carl', 70), ('Bob', 100), ('Raymond', 50), ('Sue', 75)]"
   ]
  },
  {
   "cell_type": "code",
   "execution_count": 4,
   "metadata": {},
   "outputs": [
    {
     "name": "stdout",
     "output_type": "stream",
     "text": [
      "Passed students\n",
      ">>>>>>>><<<<<<<\n",
      "Tommy,Carl,Bob,Sue,"
     ]
    }
   ],
   "source": [
    "students = [('Tommy', 95), ('Linda', 63), ('Carl', 70), ('Bob', 100), ('Raymond', 50), ('Sue', 75)]\n",
    "passed_students = []\n",
    "for student in students:\n",
    "    if student[1]>=70:\n",
    "        passed_students.append(student[0])\n",
    "print(\"Passed students\")\n",
    "print(\">>>>>>>><<<<<<<\")\n",
    "for i in passed_students:\n",
    "    print(i,end=\",\")"
   ]
  },
  {
   "cell_type": "code",
   "execution_count": null,
   "metadata": {},
   "outputs": [],
   "source": []
  }
 ],
 "metadata": {
  "kernelspec": {
   "display_name": "Python 3",
   "language": "python",
   "name": "python3"
  },
  "language_info": {
   "codemirror_mode": {
    "name": "ipython",
    "version": 3
   },
   "file_extension": ".py",
   "mimetype": "text/x-python",
   "name": "python",
   "nbconvert_exporter": "python",
   "pygments_lexer": "ipython3",
   "version": "3.7.3"
  }
 },
 "nbformat": 4,
 "nbformat_minor": 2
}
